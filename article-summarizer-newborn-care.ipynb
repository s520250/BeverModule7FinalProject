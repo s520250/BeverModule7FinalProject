{
 "cells": [
  {
   "cell_type": "markdown",
   "metadata": {},
   "source": [
    "# Web Mining and Applied NLP (44-620)\n",
    "\n",
    "## Final Project: Article Summarizer\n",
    "\n",
    "### Student Name: Sammie Bever\n",
    "https://github.com/s520250/BeverModule7FinalProject\n",
    "\n",
    "Perform the tasks described in the Markdown cells below.  When you have completed the assignment make sure your code cells have all been run (and have output beneath them) and ensure you have committed and pushed ALL of your changes to your assignment repository.\n",
    "\n",
    "You should bring in code from previous assignments to help you answer the questions below.\n",
    "\n",
    "Every question that requires you to write code will have a code cell underneath it; you may either write your entire solution in that cell or write it in a python file (`.py`), then import and run the appropriate code to answer the question."
   ]
  },
  {
   "cell_type": "markdown",
   "metadata": {},
   "source": [
    "# Question 1"
   ]
  },
  {
   "cell_type": "markdown",
   "metadata": {},
   "source": [
    "1. Find on the internet an article or blog post about a topic that interests you and you are able to get the text for using the technologies we have applied in the course.  Get the html for the article and store it in a file (which you must submit with your project)"
   ]
  },
  {
   "cell_type": "code",
   "execution_count": 1,
   "metadata": {},
   "outputs": [],
   "source": [
    "import requests\n",
    "from bs4 import BeautifulSoup\n",
    "\n",
    "article_page = requests.get('https://www.parents.com/baby/care/american-baby-how-tos/newborn-baby-boot-camp/')\n",
    "article_html = article_page.text\n",
    "    \n",
    "with open('file.html', 'w', encoding =\"utf-8\") as file:\n",
    "    file.write(article_page.text)"
   ]
  },
  {
   "cell_type": "markdown",
   "metadata": {},
   "source": [
    "# Question 2"
   ]
  },
  {
   "cell_type": "markdown",
   "metadata": {},
   "source": [
    "2. Read in your article's html source from the file you created in question 1 and do sentiment analysis on the article/post's text (use `.get_text()`).  Print the polarity score with an appropriate label.  Additionally print the number of sentences in the original article (with an appropriate label)"
   ]
  },
  {
   "cell_type": "code",
   "execution_count": 2,
   "metadata": {},
   "outputs": [
    {
     "name": "stdout",
     "output_type": "stream",
     "text": [
      "Article Content:\n",
      "\n",
      "\n",
      "\n",
      "\n",
      "\n",
      "Babies\n",
      "\n",
      "\n",
      "\n",
      "\n",
      "\n",
      "Newborn Care\n",
      "\n",
      "\n",
      "\n",
      "\n",
      "\n",
      "Baby Care Basics\n",
      "\n",
      "\n",
      "\n",
      "\n",
      "What New Parents Need to Know About Taking Care of a Newborn\n",
      "\n",
      "Every new parent needs some help. Here's everything you need to know about your newborn from sleeping to feeding and crying and pooping.\n",
      "\n",
      "\n",
      "\n",
      "\n",
      "By\n",
      "\n",
      "Lisa Milbrand\n",
      "\n",
      "\n",
      "\n",
      "\n",
      "\n",
      "\n",
      "\n",
      "\n",
      " \n",
      "\n",
      "Lisa Milbrand\n",
      "\n",
      "\n",
      "Lisa Milbrand is a copy writer for Real Simple, with a passion for writing about food, travel, and hacks to make life easier. Loves fancy restaurants, good coffee and her family (of course); not a fan of waiting in lines.\n",
      "\n",
      "\n",
      "\n",
      "our editorial guidelines\n",
      "\n",
      "\n",
      "\n",
      "\n",
      "Updated on September 8, 2022\n",
      "\n",
      "\n",
      "\n",
      "\n",
      "\n",
      "\n",
      "\n",
      "\n",
      "\n",
      "Share\n",
      "\n",
      "\n",
      "\n",
      "\n",
      "\n",
      "\n",
      "\n",
      "Tweet\n",
      "\n",
      "\n",
      "\n",
      "\n",
      "\n",
      "\n",
      "\n",
      "Pin\n",
      "\n",
      "\n",
      "\n",
      "\n",
      "\n",
      "\n",
      "\n",
      "Email\n",
      "\n",
      "\n",
      "\n",
      "\n",
      "\n",
      "\n",
      "\n",
      "\n",
      "\n",
      "\n",
      "\n",
      "\n",
      "\n",
      "\n",
      " \n",
      "\n",
      "Photo: Kseniia Zagrebaeva/Shutterstock\n",
      "\n",
      "\n",
      "\n",
      "\n",
      "\n",
      "You've no doubt been dreaming about your baby for months: what they'll look like, what they'll sound like, and even what they'll feel like. But chances are, you'll welcome tips for taking care of a newborn—especially if it's your first child.\n",
      "\n",
      "\n",
      "\n",
      "Well, take heart. Lots of parents have been there, struggling to know how to care for their baby in those exciting but often challenging first weeks. Read on to learn the basics of caring for your new baby in the early weeks of their life.\n",
      "\n",
      "\n",
      "   Visitors  \n",
      "\n",
      "Family and friends will probably want to visit as soon as possible, but you may want to keep them at bay so that you can spend time alone as a new family. Since a newborn is usually alert and receptive immediately after birth, it's the perfect time to bond, so look them in the eyes and talk to them. They know your voice from being with you throughout pregnancy and may find it soothing.\n",
      "\n",
      "\n",
      "   Clothing  \n",
      "\n",
      "A cute going-home outfit may be irresistible, but remember that babies cannot regulate their body temperature until they're about 6 months old. So dress your newborn with care. Generally, they should wear the same amount of clothing as you, indoors or outdoors. Don't over bundle them—sweating can cause them to become chilled. Instead, layers are a good way to go.\n",
      "\n",
      "\n",
      "\n",
      "Essential Gear for Baby's First Six Weeks\n",
      "\n",
      "\n",
      "   Car Safety  \n",
      "\n",
      "A few weeks before your due date, check out the National Highway Traffic Safety Administration's (NHTSA) website to ensure you install your chosen car seat properly. Alternately, you can call 866-SEAT-CHECK to locate a certified child passenger safety expert who can make sure the car seat is secured correctly in your vehicle.\n",
      "\n",
      "\n",
      "\n",
      "First, the basics, according to NHTSA:\n",
      "\n",
      "\n",
      "\n",
      "The harness may not fit properly if your baby wears too much clothing. If it's cold out, put your baby in the seat first, buckle them in, then place a blanket on top.\n",
      "The harness must be snug against the hips and shoulders.\n",
      "The chest clip should be level with your baby's armpits.\n",
      "The seat must be installed at an angle so the baby is semi-reclining; their head must not flop forward (see your car seat manufacturer instructions for details).\n",
      "Once you've installed the seat, push on it—hard. It shouldn't move more than an inch in any direction.\n",
      "\n",
      "\n",
      "   Feeding  \n",
      "\n",
      "No matter how you feed your baby, there are some things to remember. Below are tips for breastfeeding and formula feeding in the early weeks.\n",
      "\n",
      "\n",
      "  Breastfeeding and chestfeeding  \n",
      "\n",
      "Nursing may be natural, but it can prove challenging at first. These strategies will help if you choose to breastfeed:\n",
      "\n",
      "\n",
      "\n",
      "Don't delay: If you can, try to nurse within an hour of delivery when your baby is most alert.\n",
      "Ask for help: Most hospitals have lactation consultants on staff. They can help you get a proper latch and experiment with different positions.\n",
      "Nurse on demand: Your new baby will help your body establish a robust milk supply by nursing frequently. So, let your newborn nurse whenever they want. According to the Centers for Disease Control and Prevention (CDC), newborns should breastfeed 8 to 12 times in 24 hours.\n",
      "Get a proper latch: A proper latch helps prevent sore nipples for you and ensures enough milk for your baby. If you're unsure what this looks like, don't hesitate to ask a nurse, pediatrician, or lactation consultant. \n",
      "Create a nursing nest: A comfy chair, pillows, footstool, and access to water and snacks can keep you supported and comfortable while you feed your baby.\n",
      "Eat and drink enough: While breastfeeding, you need an additional 300–400 calories per day, according to the CDC. And since you are losing fluids while breastfeeding, get at least eight glasses of water every day.\n",
      "\n",
      "\n",
      "  Expressing breast milk  \n",
      "\n",
      "If your baby has trouble latching and is not getting enough colostrum, or you are separated after birth due to complications, you may choose to express breast milk in the first few days or even long-term.\n",
      "\n",
      "\n",
      "\n",
      "In some cases, parents choose to feed their newborns expressed colostrum with a spoon or syringe in the first few days of life. These methods can help you avoid nipple confusion in those early days should you wish to try nursing directly from the breast later on.\n",
      "\n",
      "\n",
      "\n",
      "Some pumping tips include:\n",
      "\n",
      "\n",
      "\n",
      "Pick the pump that's best for you: For expressing colostrum, hand expressing can be especially effective. But as time passes, most parents who pump prefer manual hand pumps or electric pumps.\n",
      "Get support: Don't hesitate to request assistance from the hospital's lactation consultant; they may even be able to hook you up with a hospital-grade rental pump.\n",
      "Be patient and persistent: Like breastfeeding, pumping takes practice and will get easier with time should you choose to continue long-term.\n",
      "Listen to your body: Pumping should not hurt; if it does, reposition or lower the suction and try again. \n",
      "Do your best to relax: Your milk ejection reflex is inhibited when you are tense or stressed, so try looking at your baby or distracting yourself with a TV show, guided meditation, or even a phone call with a friend.\n",
      "Store breast milk safely: According to the CDC, you should store pumped breast milk in food-grade containers. In addition, you can store freshly pumped breast milk for four hours at room temperature, four days in the fridge, and six-12 months in the freezer. If your baby does not finish the milk from a feeding, you can reuse it within two hours.\n",
      "\n",
      "\n",
      "  Formula Feeding  \n",
      "\n",
      "Since the Food and Drug Administration (FDA) regulates formulas to ensure they're safe and contain the most essential nutrients, most commercial formulas are essentially the same. Ask a pediatrician if they recommend a formula with added iron, DHA, or other nutrients for your baby. Your choice of powder, liquid, or concentrate primarily boils down to issues of cost and convenience.\n",
      "\n",
      "\n",
      "\n",
      "Fear of food allergies makes some parents reluctant to give their babies cow's milk-based formula. However, according to the American College of Allergy, Asthma, and Immunology, only 2% to 3% of children under 3 years old have a milk protein allergy.\n",
      "\n",
      "\n",
      "\n",
      "If your baby has a milk protein allergy or milk intolerance, a pediatrician may advise a hypoallergenic formula (in which milk proteins are broken down so they're more easily digested) or soy-based formula (which doesn't contain any milk protein).\n",
      "\n",
      "\n",
      "\n",
      "Keep these formula-feeding safety tips from the CDC in mind:\n",
      "\n",
      "\n",
      "\n",
      "Heat formula in a pan of warm water or a bottle warmer (microwaving can create dangerous hot spots).\n",
      "Use room-temperature formula within two hours; after that, the risk of bacteria growth increases, so you should discard it.\n",
      "Use refrigerated formula within 24 hours.\n",
      "Store formula in a cool, dry place (not the freezer or refrigerator).\n",
      "Don't save any formula your baby leaves behind in the bottle; bacteria from their saliva can contaminate it.\n",
      "Use formula within one month of opening; never use after the \"use-by\" date on the packaging.\n",
      "Clean and sanitize all bottles and parts between feedings. \n",
      "\n",
      "\n",
      "   Newborn Bodies  \n",
      "\n",
      "A newborn baby's body isn't just smaller than yours; it also has some distinct characteristics. Knowing what to look out for can help ease your anxiety and enable you to keep your baby clean and comfy.\n",
      "\n",
      "\n",
      "  Face  \n",
      "\n",
      "Seeing a newborn with a red, blotchy face may be disconcerting. But baby acne is a common and harmless condition.\n",
      "\n",
      "\n",
      "\n",
      "Care tip: Wash your baby's face and neck daily with lukewarm water or a mild baby soap and a soft washcloth.\n",
      "\n",
      "\n",
      "  Eyes  \n",
      "\n",
      "Some babies have a yellowish discharge or crusting in the eye or on the lid, usually caused by a blocked tear duct. This condition can last several months.\n",
      "\n",
      "\n",
      "\n",
      "Care tip: Wipe the area using a cotton ball moistened with warm water.\n",
      "\n",
      "\n",
      "  Scalp  \n",
      "\n",
      "Many newborns develop a scaly scalp condition called cradle cap. It typically disappears in the first few months.\n",
      "\n",
      "\n",
      "\n",
      "Care tip: Wash your baby's hair with a gentle baby shampoo no more than three times a week. Then gently brush the scales daily using a baby hairbrush or soft toothbrush.\n",
      "\n",
      "\n",
      "  Nose  \n",
      "\n",
      "Babies' narrow nasal passages tend to fill with mucus. Often, they will clear it by blowing their nose, but sometimes they may need a little help.\n",
      "\n",
      "\n",
      "\n",
      "Care tip: Gently unclog nostrils with an infant-sized nasal bulb syringe. To loosen mucus, use saline solution or nasal spray before suctioning.\n",
      "\n",
      "\n",
      "  Nails  \n",
      "\n",
      "A newborn's nails are usually soft, but they can scratch their sensitive skin. The idea of keeping a baby's nails trimmed often scares new parents but once you get the hang of it, it's not so bad.\n",
      "\n",
      "\n",
      "\n",
      "Care tip: Use baby nail clippers or blunt-nosed scissors made for baby nails. Clip after their bath when nails are soft or when they're asleep and their fingers are relaxed.\n",
      "\n",
      "\n",
      "  Skin  \n",
      "\n",
      "Some babies develop red, itchy patches called eczema or atopic dermatitis—an inheritable skin condition. Since babies can't relieve their itchy skin, they're relying on you to help them out.\n",
      "\n",
      "\n",
      "\n",
      "Care tip: Limit baths to 10 minutes, and use a mild, fragrance-free soap and lukewarm water. Then liberally apply hypoallergenic lotion immediately afterward. Stick to cotton clothing.\n",
      "\n",
      "\n",
      "  Bottom  \n",
      "\n",
      "Too much moisture plus sensitive skin can equal diaper rash for many babies. Diaper rash can be painful for babies, so they may be fussy if they have a rash on their bottom.\n",
      "\n",
      "\n",
      "\n",
      "Care tip: Change diapers frequently. Using wipes may irritate sensitive skin—instead, try rinsing your baby's bottom with water and blotting dry. Diaper rash creams may help.\n",
      "\n",
      "\n",
      "\n",
      "Cleaning Baby's Messiest Parts\n",
      "\n",
      "\n",
      "  Umbilical stump  \n",
      "\n",
      "Keep the umbilical cord stump clean and dry. It will shrivel and fall off within a few weeks. In the meantime, don't be surprised by a stinky smell coming from the area. Once it falls off, it will go away.\n",
      "\n",
      "\n",
      "\n",
      "Care tip: Avoid covering the cord area with a diaper and stick to sponge baths until the stump detaches.\n",
      "\n",
      "\n",
      "  Genitals  \n",
      "\n",
      "If your baby has a penis, you may notice that their testicles appear large. This swelling is due to maternal hormones. Don't worry; this swelling will go down within a few days. If your baby is circumcised, the tip of their penis will be tender as it heals.\n",
      "\n",
      "\n",
      "\n",
      "If your baby has a vulva, you may also notice swelling for the same reason as above. In addition, those same maternal hormones can also result in a bloody vaginal discharge in the early weeks. This discharge typically only lasts a few days.\n",
      "\n",
      "\n",
      "\n",
      "Care tip: Gently clean the genital area with warm water daily. If your baby is circumcised, use petroleum jelly to protect the site and prevent the penis from sticking to a diaper. If they are not circumcised, no additional care is needed. You should not attempt to retract the foreskin; this will occur naturally on its own—sometime between 5 years old and puberty.\n",
      "\n",
      "\n",
      "  Legs and feet  \n",
      "\n",
      "Newborns tend to have bowed-out legs and turned-in feet. This position mimics their position in the womb. Also, newborns' toes frequently overlap, and sometimes the nails look ingrown (usually, they aren't).\n",
      "\n",
      "\n",
      "\n",
      "Care tip: Don't worry about it—your baby's legs and feet will straighten around 6 to 18 months.\n",
      "\n",
      "\n",
      "   Newborn Sleep  \n",
      "\n",
      "Newborns don't come into the world with adult-friendly sleep habits. That's primarily because of their tiny tummies—newborns generally need to eat between 8–12 times in 24 hours, including at night. So, don't expect a newborn to sleep for long stretches at first. However, there are some things you can do to make bedtime easier.\n",
      "\n",
      "\n",
      "  Sleep close to them  \n",
      "\n",
      "Being close to their parent regulates a baby's heart rate, immune system, and stress levels, and makes breastfeeding easier, says James McKenna, Ph.D., director of the Mother-Baby Behavioral Sleep Laboratory at the University of Notre Dame in Indiana. \"It also keeps the baby in lighter phases of sleep so he can practice arousing and going back to sleep, which is good in case of any problems, such as sleep apnea.\"\n",
      "\n",
      "\n",
      "\n",
      "As part of their safe sleep guidelines, the American Academy of Pediatrics (AAP) recommends sleeping in the same room as your baby for the first six months.\n",
      "\n",
      "\n",
      "\n",
      "Room-sharing (but not bed-sharing) may also reduce the risk of sudden infant death syndrome (SIDS), according to the AAP. A bedside or freestanding (but nearby) bassinet is a good option. However, the AAP advises against sleeping on the same surface with your baby because of the risk of suffocation.\n",
      "\n",
      "\n",
      "\n",
      "11 Ways to Reduce Your Baby's Risk of SIDS\n",
      "\n",
      "\n",
      "  Bedtime rituals  \n",
      "\n",
      "Newborns often get their days and nights mixed up and you may find them sleeping more during the day and having more awake time at night. If your baby has fallen into this pattern, encourage them to switch, says Jodi Mindell, Ph.D., associate director of the Sleep Center, Children's Hospital in Philadelphia, and author of Sleeping Through the Night: How Infants, Toddlers and Their Parents Can Get a Good Night's Sleep.\n",
      "\n",
      "\n",
      "\n",
      "\"At night, keep the lights low and move slowly when you feed him. Be boring. Make sure he gets bright light in the morning, and keep him as busy as you can during the day. Make noise. Play with him.\" In other words, during the day, be interesting.\n",
      "\n",
      "\n",
      "\n",
      "In addition, \"sleep time should be consistent,\" Mindell says. \"Each family has to develop its own routine, but doing the same activities in the same order every day helps the baby anticipate what will come next.\" Mindell suggests doing three or four winding-down activities for 20 to 30 minutes. These activities can include massages, baths, lullabies, prayers, rocking, nursing, and reading.\n",
      "\n",
      "\n",
      "  Naps  \n",
      "\n",
      "Look to your baby for their evolving schedule after about 3 months—before that, anything goes. \"You don't have to be rigid,\" Mindell says, \"but some structure helps both parents and baby. By age 9 months, most babies naturally move to napping at around 9 a.m. and 2 p.m.\" But don't try to force a schedule on your baby for your convenience.\n",
      "\n",
      "\n",
      "  Sleep training  \n",
      "\n",
      "While sleep training may be OK for some older babies, it's not a good idea for newborns and younger babies. Jennifer Waldburger, L.C.S.W., co-owner of Los Angeles-based Sleepy Planet and author of the book and DVD The Sleepeasy Solution, suggests that when babies are about 5 months old, it's safer to experiment with sleep training methods like letting your baby cry a bit at night (maybe for three to five minutes at a time).\n",
      "\n",
      "\n",
      "\n",
      "Best Baby Sleep Tips Ever\n",
      "\n",
      "\n",
      "   Newborn Poop  \n",
      "\n",
      "Sometime in the first days after birth, your baby will pass a thick black or dark-green substance called meconium; this is normal. Within a few days, a breastfed baby will begin having six to eight bowel movements daily, which will be soft, yellow-green and sometimes filled with seedlike particles.\n",
      "\n",
      "\n",
      "\n",
      "If your baby is formula-fed, on the other hand, they will likely have one to two stools per day, which will be thicker and yellow or tan in color. Unless your baby has signs of diarrhea, wide variations in your baby's poop color, consistency, and frequency are normal.\n",
      "\n",
      "\n",
      "   Crying  \n",
      "\n",
      "Newborns can cry—a lot. If you think about it, it makes sense because crying is their only way of communicating their needs. But, it can take some detective work to figure out why they're crying.\n",
      "\n",
      "\n",
      "\n",
      "Some tips for soothing crying babies:\n",
      "\n",
      "\n",
      "\n",
      "Rule out the obvious potential causes: Are they hungry? Are they wet? Are they tired? Are they gassy? Are they too hot or too cold?\n",
      "Let them suck on your breast, a bottle, finger, or a pacifier. (To avoid nipple confusion if you're breastfeeding, many experts recommend waiting to offer a pacifier until nursing is going smoothly.)\n",
      "Re-create a womblike environment by swaddling them securely in a blanket with their arms tucked inside. Then hold them snugly on their left side or stomach and jiggle them gently while making loud \"shushing\" sounds in their ear.\n",
      "Walk, rock, sway, take them for a car or stroller ride, or put them in an infant swing. (Babies love motion!)\n",
      "\n",
      "\n",
      "\n",
      "Above all, keep your cool! If you're tense, your baby will be, too. Remember that babies cry—and it will pass.\n",
      "\n",
      "\n",
      "\n",
      "23 Ways to Calm a Fussy Newborn\n",
      "\n",
      "\n",
      "   Fevers  \n",
      "\n",
      "Fever can be a sign of serious illness, especially in a baby younger than 2 months. So, call a pediatrician if your newborn's rectal temperature hits 100.4 F (or 102 F if your baby is 2 months or older). Also, watch for other signs of illness: If your baby is acting oddly, not eating or drinking, or seems to be in pain, contact a health care provider regardless of their temperature.\n",
      "\n",
      "\n",
      "  When to Call a Pediatrician  \n",
      "\n",
      "A good rule of thumb is to check in with a doctor for any fever in a newborn. It's always best to call to be safe. As your baby ages, you'll be able to relax more about low-grade fevers, but the following symptoms in babies warrant medical attention:\n",
      "\n",
      "\n",
      "\n",
      "Has a fever of 100.4 F or higher if the baby is 2 months or younger; 102 F if they're older than 2 months\n",
      "Shows changes in their eating patterns, such as refusing to nurse\n",
      "Has very watery or mucusy stools\n",
      "Is excessively sleepy, lethargic, or unresponsive\n",
      "Is overly irritable and cries inconsolably for longer than normal\n",
      "Has a red or swollen rash anywhere on their body\n",
      "Has redness or swelling at the base of their umbilical cord\n",
      "Exhibits symptoms of constipation, like discomfort (e.g., straining) when they move their bowels\n",
      "Has a distended abdomen or vomits (as opposed to spitting up)\n",
      "\n",
      "\n",
      "\n",
      "\n",
      "Was this page helpful?\n",
      "\n",
      "\n",
      "\n",
      "\n",
      "\n",
      "\n",
      "\n",
      "\n",
      "\n",
      "\n",
      "\n",
      "\n",
      "\n",
      "\n",
      "\n",
      "\n",
      "\n",
      "\n",
      "\n",
      "Thanks for your feedback!\n",
      "\n",
      "\n",
      "\n",
      "\n",
      "\n",
      "\n",
      "\n",
      "\n",
      "\n",
      "\n",
      "Tell us why!\n",
      "\n",
      "Other\n",
      "\n",
      "\n",
      "\n",
      "\n",
      "Submit\n",
      "\n",
      "\n",
      "\n",
      "\n",
      "\n",
      "\n",
      "\n",
      "\n",
      "\n",
      "\n",
      "\n",
      "\n",
      "\n",
      "\n",
      "\n",
      "\n",
      "\n",
      "\n",
      "\n",
      "\n",
      "\n",
      "\n",
      "\n",
      "\n",
      "\n",
      "\n",
      "\n",
      "\n",
      "\n",
      "\n",
      "\n",
      "\n",
      "\n",
      "\n",
      "\n",
      "\n",
      "\n",
      "\n",
      "\n",
      "\n",
      "\n",
      "\n",
      "\n",
      "\n",
      "\n",
      "\n",
      "\n",
      "\n",
      "\n",
      "\n",
      "\n",
      "\n",
      "\n",
      "\n",
      "\n",
      "\n",
      "\n",
      "\n",
      "\n",
      "\n",
      "\n",
      "\n",
      "\n",
      "\n",
      "\n",
      "\n",
      "\n",
      "\n",
      "\n",
      "\n",
      "\n",
      "\n",
      "\n",
      "\n",
      "\n",
      "\n",
      "\n",
      "\n",
      "\n",
      "\n",
      "\n",
      "Polarity Score of Newborn Care Article: 0.11687166999667008\n",
      "Sentence count: 179\n"
     ]
    }
   ],
   "source": [
    "# read in article from file created in question 1\n",
    "with open('file.html', 'r', encoding='utf-8') as f:\n",
    "    article_page = f.read()\n",
    "file = BeautifulSoup(article_page, 'html5lib')\n",
    "\n",
    "#to remove miscellaneous junk from extracted article text\n",
    "for data in file(['style','script']):\n",
    "    data.decompose()\n",
    "\n",
    "article_content = file.find('article')\n",
    "\n",
    "print(\"Article Content:\")\n",
    "print(article_content.get_text())\n",
    "print()\n",
    "print()\n",
    "print()\n",
    "\n",
    "# do sentiment analysis\n",
    "import spacy\n",
    "from spacytextblob.spacytextblob import SpacyTextBlob\n",
    "\n",
    "nlp = spacy.load('en_core_web_sm')\n",
    "\n",
    "nlp.add_pipe('spacytextblob')\n",
    "doc = nlp(article_content.get_text())\n",
    "print(f'Polarity Score of Newborn Care Article: {doc._.polarity}')\n",
    "\n",
    "# print the number of sentences in the original article\n",
    "sentences = list(doc.sents)\n",
    "for sentence in sentences:\n",
    "    count =+ 1\n",
    "    for item in file.find('article'):\n",
    "        item.get_text(\"\\n\", strip=True)\n",
    "sent_str = str(sentences).replace('\\n','').replace('  ',' ')\n",
    "print(\"Sentence count:\", len(sentences))"
   ]
  },
  {
   "cell_type": "markdown",
   "metadata": {},
   "source": [
    "# Question 3"
   ]
  },
  {
   "cell_type": "markdown",
   "metadata": {},
   "source": [
    "3. Load the article text into a trained `spaCy` pipeline, and determine the 5 most frequent tokens (converted to lower case).  Print the common tokens with an appropriate label.  Additionally, print the tokens their frequencies (with appropriate labels)"
   ]
  },
  {
   "cell_type": "code",
   "execution_count": 3,
   "metadata": {},
   "outputs": [
    {
     "name": "stdout",
     "output_type": "stream",
     "text": [
      "Most Common Tokens with Counts [('baby', 62), ('care', 18), ('babies', 17), ('newborn', 17), ('sleep', 16)]\n",
      "Most Common Tokens: {'sleep', 'newborn', 'babies', 'care', 'baby'}\n"
     ]
    }
   ],
   "source": [
    "import spacy\n",
    "from spacytextblob.spacytextblob import SpacyTextBlob\n",
    "\n",
    "nlp = spacy.load('en_core_web_sm')\n",
    "nlp.add_pipe('spacytextblob')\n",
    "doc = nlp(article_content.get_text())\n",
    "\n",
    "# get rid of punctuation and whitespaces\n",
    "def we_care_about(token):\n",
    "    return not (token.is_space or token.is_punct)\n",
    "\n",
    "interesting_tokens = [token for token in doc if we_care_about(token)]\n",
    "\n",
    "# count the most frequent terms\n",
    "from collections import Counter\n",
    "word_freq = Counter(map(str,interesting_tokens))\n",
    "\n",
    "# remove stopwords\n",
    "def we_care_about(token):\n",
    "    return not (token.is_space or token.is_punct or token.is_stop)\n",
    "\n",
    "# converted to lower case, counted tokens, and printed list\n",
    "interesting_tokens = [str(token).lower() for token in doc if we_care_about(token)]\n",
    "word_freq = Counter(map(str,interesting_tokens))\n",
    "print(\"Most Common Tokens with Counts\", word_freq.most_common(5))\n",
    "\n",
    "# store top 5 tokens in a set\n",
    "top5tokens = set()\n",
    "for token, freq in word_freq.most_common(5):\n",
    "    top5tokens.add(token)\n",
    "print(\"Most Common Tokens:\", top5tokens)"
   ]
  },
  {
   "cell_type": "markdown",
   "metadata": {},
   "source": [
    "# Question 4"
   ]
  },
  {
   "cell_type": "markdown",
   "metadata": {},
   "source": [
    "4. Load the article text into a trained `spaCy` pipeline, and determine the 5 most frequent lemmas (converted to lower case).  Print the common lemmas with an appropriate label.  Additionally, print the lemmas with their frequencies (with appropriate labels)."
   ]
  },
  {
   "cell_type": "code",
   "execution_count": 4,
   "metadata": {},
   "outputs": [
    {
     "name": "stdout",
     "output_type": "stream",
     "text": [
      "Most Common Lemmas: [('baby', 77), ('newborn', 27), ('sleep', 21), ('care', 19), ('tip', 16)]\n",
      "Most Common Lemmas: {'tip', 'sleep', 'newborn', 'care', 'baby'}\n"
     ]
    }
   ],
   "source": [
    "for sentence in sentences:\n",
    "    sent_str = str(sentence).replace('\\n','').replace('  ',' ')\n",
    "\n",
    "# Changed to lemmas, lower case, counted lemmas, and printed list\n",
    "interesting_lemmas = [token.lemma_.lower() for token in doc if we_care_about(token)]\n",
    "lemma_freq = Counter(interesting_lemmas)\n",
    "print(\"Most Common Lemmas:\", lemma_freq.most_common(5))\n",
    "\n",
    "# store top 5 lemmas in a set\n",
    "top5lemmas = set()\n",
    "for token, freq in lemma_freq.most_common(5):\n",
    "    top5lemmas.add(token)\n",
    "print(\"Most Common Lemmas:\", top5lemmas)"
   ]
  },
  {
   "cell_type": "markdown",
   "metadata": {},
   "source": [
    "# Question 5"
   ]
  },
  {
   "cell_type": "markdown",
   "metadata": {},
   "source": [
    "5. Make a list containing the scores (using tokens) of every sentence in the article, and plot a histogram with appropriate titles and axis labels of the scores. From your histogram, what seems to be the most common range of scores (put the answer in a comment after your code)?"
   ]
  },
  {
   "cell_type": "code",
   "execution_count": 5,
   "metadata": {},
   "outputs": [
    {
     "name": "stdout",
     "output_type": "stream",
     "text": [
      "[0.2916666666666667, 0.05555555555555555, 0.0, 0.0, 0.022727272727272728, 0.1, 0.0, 0.08695652173913043, 0.05263157894736842, 0.0, 0.03571428571428571, 0.0, 0.038461538461538464, 0.3333333333333333, 0.0, 0.0, 0.0, 0.02702702702702703, 0.0, 0.05263157894736842, 0.047619047619047616, 0.0, 0.09090909090909091, 0.03571428571428571, 0.0, 0.0, 0.07142857142857142, 0.0, 0, 0.0, 0.034482758620689655, 0.0, 0.0, 0.05555555555555555, 0.125, 0.0, 0.05, 0.0, 0.022727272727272728, 0.0, 0, 0.025, 0.0, 0.0, 0.0, 0.0, 0.0, 0.0, 0.0, 0.0, 0.0, 0.02857142857142857, 0.0, 0.0, 0.05555555555555555, 0.0, 0.05555555555555555, 0.0, 0.058823529411764705, 0.0, 0.023809523809523808, 0.0, 0.0, 0.0, 0.0, 0.05263157894736842, 0.0, 0.0, 0, 0.15789473684210525, 0.047619047619047616, 0.08333333333333333, 0.1111111111111111, 0.13636363636363635, 0.043478260869565216, 0.0, 0.5, 0.0, 0.0, 0.0, 0.15789473684210525, 0.07692307692307693, 0.1, 0.0, 0.08333333333333333, 0.0, 0, 0.06666666666666667, 0.038461538461538464, 0.5, 0.16666666666666666, 0.0, 0.0625, 0.058823529411764705, 0.058823529411764705, 0.0, 0.0, 0.07142857142857142, 0.05, 0.2, 0.05555555555555555, 0.0, 0.06666666666666667, 0.0, 0.0, 0.0, 0.05263157894736842, 0.06666666666666667, 0.0, 0.0, 0.0625, 0.058823529411764705, 0.0, 0.0, 0.09090909090909091, 0.047619047619047616, 0.1, 0.0, 0.0, 0.0, 0.0, 0.1, 0, 0.21428571428571427, 0.0, 0.15384615384615385, 0.0, 0.09090909090909091, 0.125, 0.07407407407407407, 0.0, 0.0, 0.03508771929824561, 0.06382978723404255, 0.0, 0.0, 0.0, 0.0, 0.0, 0.0, 0.1111111111111111, 0.037037037037037035, 0.0, 0.0, 0.058823529411764705, 0.058823529411764705, 0.058823529411764705, 0.07142857142857142, 0.17391304347826086, 0.05263157894736842, 0.13333333333333333, 0.03571428571428571, 0.03333333333333333, 0.1, 0.0, 0.0, 0.0, 0.06666666666666667, 0.0, 0.0, 0.0, 0.0, 0.0, 0.0, 0.0, 0.0, 0.3333333333333333, 0.0, 0.1111111111111111, 0.125, 0.08333333333333333, 0.08333333333333333, 0.0625, 0.043478260869565216, 0.0, 0.023622047244094488, 0.0, 0.0, 0.0]\n"
     ]
    },
    {
     "data": {
      "image/png": "[encoded data removed]",
      "text/plain": [
       "<Figure size 432x288 with 1 Axes>"
      ]
     },
     "metadata": {
      "needs_background": "light"
     },
     "output_type": "display_data"
    }
   ],
   "source": [
    "import matplotlib.pyplot as plt\n",
    "sentences = list(doc.sents)\n",
    "\n",
    "def sent_len(sent):\n",
    "    count = 0\n",
    "    for token in sent:\n",
    "        if not(token.is_space or token.is_punct):\n",
    "            count += 1\n",
    "    return count\n",
    "\n",
    "def score_sentence_by_token(sent, top5tokens):\n",
    "    count = 0\n",
    "    if sent_len(sent) == 0:\n",
    "        return 0\n",
    "    for token in sent:\n",
    "        if str(token).lower() in top5tokens:\n",
    "            count += 1\n",
    "    return count/sent_len(sent)\n",
    "\n",
    "# make a list of token scores\n",
    "token_scores = []\n",
    "\n",
    "for sentence in sentences:\n",
    "    token_scores.append(score_sentence_by_token(sentence, top5tokens))\n",
    "print(token_scores)\n",
    "\n",
    "# plot histogram\n",
    "plt.hist(token_scores)\n",
    "plt.title('Sentence Scores by Token')\n",
    "plt.xlabel('Scores')\n",
    "plt.ylabel('Token Count')\n",
    "plt.show()\n",
    "\n",
    "# The most common range of scores (using tokens) appears to be 0.0 to 0.05"
   ]
  },
  {
   "cell_type": "markdown",
   "metadata": {},
   "source": [
    "# Question 6"
   ]
  },
  {
   "cell_type": "markdown",
   "metadata": {},
   "source": [
    "6. Make a list containing the scores (using lemmas) of every sentence in the article, and plot a histogram with appropriate titles and axis labels of the scores.  From your histogram, what seems to be the most common range of scores (put the answer in a comment after your code)?"
   ]
  },
  {
   "cell_type": "code",
   "execution_count": 6,
   "metadata": {},
   "outputs": [
    {
     "name": "stdout",
     "output_type": "stream",
     "text": [
      "[0.25, 0.05555555555555555, 0.0, 0.0, 0.022727272727272728, 0.1, 0.0, 0.08695652173913043, 0.05263157894736842, 0.0, 0.03571428571428571, 0.0, 0.0, 0.3333333333333333, 0.0, 0.0, 0.0, 0.02702702702702703, 0.0, 0.05263157894736842, 0.047619047619047616, 0.0, 0.09090909090909091, 0.03571428571428571, 0.0, 0.0, 0.07142857142857142, 0.0, 0, 0.0, 0.034482758620689655, 0.0, 0.0, 0.05555555555555555, 0.125, 0.0, 0.05, 0.0, 0.022727272727272728, 0.0, 0, 0.025, 0.0, 0.0, 0.0, 0.0, 0.0, 0.0, 0.0, 0.0, 0.0, 0.02857142857142857, 0.0, 0.0, 0.05555555555555555, 0.0, 0.05555555555555555, 0.0, 0.0, 0.0, 0.023809523809523808, 0.0, 0.0, 0.0, 0.0, 0.05263157894736842, 0.0, 0.0, 0, 0.15789473684210525, 0.047619047619047616, 0.08333333333333333, 0.1111111111111111, 0.18181818181818182, 0.0, 0.0, 1.0, 0.0, 0.0, 0.0, 0.21052631578947367, 0.07692307692307693, 0.0, 0.0, 0.16666666666666666, 0.0, 0, 0.06666666666666667, 0.038461538461538464, 1.0, 0.16666666666666666, 0.0, 0.0, 0.0, 0.11764705882352941, 0.0, 0.0, 0.0, 0.0, 0.4, 0.05555555555555555, 0.0, 0.06666666666666667, 0.0, 0.0, 0.0, 0.10526315789473684, 0.06666666666666667, 0.0, 0.0, 0.125, 0.058823529411764705, 0.0, 0.0, 0.18181818181818182, 0.047619047619047616, 0.1, 0.0, 0.0, 0.0, 0.0, 0.15, 0, 0.21428571428571427, 0.0, 0.15384615384615385, 0.0, 0.09090909090909091, 0.125, 0.07407407407407407, 0.0, 0.0, 0.03508771929824561, 0.06382978723404255, 0.0, 0.0, 0.0, 0.0, 0.0, 0.0, 0.1111111111111111, 0.037037037037037035, 0.0, 0.0, 0.058823529411764705, 0.058823529411764705, 0.0, 0.07142857142857142, 0.08695652173913043, 0.03508771929824561, 0.13333333333333333, 0.03571428571428571, 0.03333333333333333, 0.1, 0.0, 0.0, 0.0, 0.0, 0.0, 0.0, 0.0, 0.0, 0.0, 0.0, 0.0, 0.0, 0.0, 0.0, 0.1111111111111111, 0.0, 0.08333333333333333, 0.08333333333333333, 0.0625, 0.043478260869565216, 0.0, 0.015748031496062992, 0.0, 0.0, 0.0]\n"
     ]
    },
    {
     "data": {
      "image/png": "[encoded data removed]",
      "text/plain": [
       "<Figure size 432x288 with 1 Axes>"
      ]
     },
     "metadata": {
      "needs_background": "light"
     },
     "output_type": "display_data"
    }
   ],
   "source": [
    "def sent_len(sent):\n",
    "    count = 0\n",
    "    for token in sent:\n",
    "        if not(token.is_space or token.is_punct):\n",
    "            count += 1\n",
    "    return count\n",
    "\n",
    "def score_sentence_by_lemmas(sent, top5lemmas):\n",
    "    count = 0\n",
    "    if sent_len(sent) == 0:\n",
    "        return 0\n",
    "    for token in sent:\n",
    "        if str(token).lower() in top5lemmas:\n",
    "            count += 1\n",
    "    return count/sent_len(sent)\n",
    "\n",
    "# make a list of lemma scores\n",
    "lemmas_scores = []\n",
    "\n",
    "for sentence in sentences:\n",
    "    lemmas_scores.append(score_sentence_by_lemmas(sentence, top5lemmas))\n",
    "print(lemmas_scores)\n",
    "\n",
    "# plot histogram\n",
    "plt.hist(lemmas_scores)\n",
    "plt.title('Sentence Scores by Lemmas')\n",
    "plt.xlabel('Scores')\n",
    "plt.ylabel('Lemmas Count')\n",
    "plt.show()\n",
    "\n",
    "# The most common range of scores (using lemmas) appears to be 0.0 to 0.1"
   ]
  },
  {
   "cell_type": "markdown",
   "metadata": {},
   "source": [
    "# Question 7"
   ]
  },
  {
   "cell_type": "markdown",
   "metadata": {},
   "source": [
    "7. Using the histograms from questions 5 and 6, decide a \"cutoff\" score for tokens and lemmas such that fewer than half the sentences would have a score greater than the cutoff score.  Record the scores in this Markdown cell\n",
    "\n",
    "* Cutoff Score (tokens): 0.16\n",
    "* Cutoff Score (lemmas): 0.18\n",
    "\n",
    "Feel free to change these scores as you generate your summaries.  Ideally, we're shooting for at least 6 sentences for our summary, but don't want more than 10 (these numbers are rough estimates; they depend on the length of your article)."
   ]
  },
  {
   "cell_type": "markdown",
   "metadata": {},
   "source": [
    "# Question 8"
   ]
  },
  {
   "cell_type": "markdown",
   "metadata": {},
   "source": [
    "8. Create a summary of the article by going through every sentence in the article and adding it to an (initially) empty list if its score (based on tokens) is greater than the cutoff score you identified in question 8.  If your loop variable is named `sent`, you may find it easier to add `sent.text.strip()` to your list of sentences.  Print the summary (I would cleanly generate the summary text by `join`ing the strings in your list together with a space (`' '.join(sentence_list)`)."
   ]
  },
  {
   "cell_type": "code",
   "execution_count": 7,
   "metadata": {},
   "outputs": [
    {
     "name": "stdout",
     "output_type": "stream",
     "text": [
      "\n",
      "\n",
      "\n",
      "\n",
      "\n",
      "Babies\n",
      "\n",
      "\n",
      "\n",
      "\n",
      "\n",
      "Newborn Care\n",
      "\n",
      "\n",
      "\n",
      "\n",
      "\n",
      "Baby Care Basics\n",
      "\n",
      "\n",
      "\n",
      "\n",
      "What New Parents Need to Know About Taking Care of a Newborn\n",
      "\n",
      "Every new parent needs some help. So dress your newborn with care. Care tip: Care tip: Use baby nail clippers or blunt-nosed scissors made for baby nails. Care tip: Change diapers frequently. Newborn Sleep  \n",
      "\n",
      "Newborns don't come into the world with adult-friendly sleep habits. Sleep training  \n",
      "\n",
      "While sleep training may be OK for some older babies, it's not a good idea for newborns and younger babies. (Babies love motion!)\n",
      "\n",
      "\n",
      "\n",
      "\n"
     ]
    }
   ],
   "source": [
    "token_summary = []\n",
    "token_cutoff = 0.16\n",
    "for sentence in sentences:\n",
    "    if(score_sentence_by_token(sentence, top5tokens)>token_cutoff):\n",
    "        token_summary.append(str(sentence))\n",
    "print(' '.join(token_summary))"
   ]
  },
  {
   "cell_type": "markdown",
   "metadata": {},
   "source": [
    "# Question 9"
   ]
  },
  {
   "cell_type": "markdown",
   "metadata": {},
   "source": [
    "9. Print the polarity score of your summary you generated with the token scores (with an appropriate label). Additionally, print the number of sentences in the summarized article."
   ]
  },
  {
   "cell_type": "code",
   "execution_count": 8,
   "metadata": {},
   "outputs": [
    {
     "name": "stdout",
     "output_type": "stream",
     "text": [
      "Polarity of Newborn Care Token Summary: 0.16429924242424243\n",
      "Token Summary Number of Sentences: 9\n"
     ]
    }
   ],
   "source": [
    "# polarity score of summary using tokens\n",
    "token_summary_text = (' '.join(token_summary))\n",
    "doc2 = nlp(token_summary_text)\n",
    "print(f'Polarity of Newborn Care Token Summary: {doc2._.polarity}')\n",
    "print(f'Token Summary Number of Sentences:', len(token_summary))"
   ]
  },
  {
   "cell_type": "markdown",
   "metadata": {},
   "source": [
    "# Question 10"
   ]
  },
  {
   "cell_type": "markdown",
   "metadata": {},
   "source": [
    "10. Create a summary of the article by going through every sentence in the article and adding it to an (initially) empty list if its score (based on lemmas) is greater than the cutoff score you identified in question 8.  If your loop variable is named `sent`, you may find it easier to add `sent.text.strip()` to your list of sentences.  Print the summary (I would cleanly generate the summary text by `join`ing the strings in your list together with a space (`' '.join(sentence_list)`)."
   ]
  },
  {
   "cell_type": "code",
   "execution_count": 9,
   "metadata": {},
   "outputs": [
    {
     "name": "stdout",
     "output_type": "stream",
     "text": [
      "\n",
      "\n",
      "\n",
      "\n",
      "\n",
      "Babies\n",
      "\n",
      "\n",
      "\n",
      "\n",
      "\n",
      "Newborn Care\n",
      "\n",
      "\n",
      "\n",
      "\n",
      "\n",
      "Baby Care Basics\n",
      "\n",
      "\n",
      "\n",
      "\n",
      "What New Parents Need to Know About Taking Care of a Newborn\n",
      "\n",
      "Every new parent needs some help. So dress your newborn with care. Care tip: Wash your baby's face and neck daily with lukewarm water or a mild baby soap and a soft washcloth.\n",
      "\n",
      "\n",
      "   Care tip: Care tip: Wash your baby's hair with a gentle baby shampoo no more than three times a week. Care tip: Care tip: Change diapers frequently. Care tip: Gently clean the genital area with warm water daily. Newborn Sleep  \n",
      "\n",
      "Newborns don't come into the world with adult-friendly sleep habits.\n"
     ]
    }
   ],
   "source": [
    "lemmas_summary = []\n",
    "lemmas_cutoff = 0.18\n",
    "for sentence in sentences:\n",
    "    if(score_sentence_by_lemmas(sentence, top5lemmas)>lemmas_cutoff):\n",
    "        lemmas_summary.append(str(sentence))\n",
    "print(' '.join(lemmas_summary))"
   ]
  },
  {
   "cell_type": "markdown",
   "metadata": {},
   "source": [
    "# Question 11"
   ]
  },
  {
   "cell_type": "markdown",
   "metadata": {},
   "source": [
    "11. Print the polarity score of your summary you generated with the lemma scores (with an appropriate label). Additionally, print the number of sentences in the summarized article."
   ]
  },
  {
   "cell_type": "code",
   "execution_count": 10,
   "metadata": {},
   "outputs": [
    {
     "name": "stdout",
     "output_type": "stream",
     "text": [
      "Polarity of Newborn Care Lemmas Summary: 0.15661157024793387\n",
      "Lemmas Summary Number of Sentences: 9\n"
     ]
    }
   ],
   "source": [
    "# polarity score of summary using lemmas\n",
    "lemmas_summary_text = (' '.join(lemmas_summary))\n",
    "doc3 = nlp(lemmas_summary_text)\n",
    "print(f'Polarity of Newborn Care Lemmas Summary: {doc3._.polarity}')\n",
    "print(f'Lemmas Summary Number of Sentences:', len(lemmas_summary))"
   ]
  },
  {
   "cell_type": "markdown",
   "metadata": {},
   "source": [
    "# Question 12"
   ]
  },
  {
   "cell_type": "markdown",
   "metadata": {},
   "source": [
    "12.  Compare your polarity scores of your summaries to the polarity scores of the initial article.  Is there a difference?  Why do you think that may or may not be?.  Answer in this Markdown cell.  \n",
    "\n",
    "I have printed the polarity scores below for the article and both summaries. There is a difference between all of the polarity scores. The summaries seem to score more positive than the full article, with the token summary scoring the most positive. I bet this is because we used a different set of words to test the polarity from. The article seems to be mostly informational and neutral, but it also talks about how new parents might struggle or be nervous at first. It also talks about how parents are likely excited for their newborn. So I think the polarity score of the article is accurate because it balances out to be mostly neutral, but slightly on the positive side. In the summaries, there are significantly less words than the original article, so they are probably not as accurate of a reading as the polarity score of the full article."
   ]
  },
  {
   "cell_type": "code",
   "execution_count": 11,
   "metadata": {},
   "outputs": [
    {
     "name": "stdout",
     "output_type": "stream",
     "text": [
      "Polarity of Newborn Care Full Article: 0.11687166999667008\n",
      "Polarity of Newborn Care Token Summary: 0.16429924242424243\n",
      "Polarity of Newborn Care Lemmas Summary: 0.15661157024793387\n"
     ]
    }
   ],
   "source": [
    "print(f'Polarity of Newborn Care Full Article: {doc._.polarity}')\n",
    "print(f'Polarity of Newborn Care Token Summary: {doc2._.polarity}')\n",
    "print(f'Polarity of Newborn Care Lemmas Summary: {doc3._.polarity}')"
   ]
  },
  {
   "cell_type": "markdown",
   "metadata": {},
   "source": [
    "# Question 13"
   ]
  },
  {
   "cell_type": "markdown",
   "metadata": {},
   "source": [
    "13. Based on your reading of the original article, which summary do you think is better (if there's a difference).  Why do you think this might be?"
   ]
  },
  {
   "cell_type": "markdown",
   "metadata": {},
   "source": [
    "I don't particlarly think that either summary was a very accurate summary of the full article. The article covered so much more than just bathing and sleep habits for newborns, but this is mostly what the summary provided. I would guess that lemmas typically do better at providing summaries because they use the basewords. "
   ]
  }
 ],
 "metadata": {
  "kernelspec": {
   "display_name": "Python 3 (ipykernel)",
   "language": "python",
   "name": "python3"
  },
  "language_info": {
   "codemirror_mode": {
    "name": "ipython",
    "version": 3
   },
   "file_extension": ".py",
   "mimetype": "text/x-python",
   "name": "python",
   "nbconvert_exporter": "python",
   "pygments_lexer": "ipython3",
   "version": "3.9.7"
  }
 },
 "nbformat": 4,
 "nbformat_minor": 4
}
